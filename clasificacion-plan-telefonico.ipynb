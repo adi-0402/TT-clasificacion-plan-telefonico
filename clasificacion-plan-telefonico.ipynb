{
 "cells": [
  {
   "cell_type": "markdown",
   "metadata": {},
   "source": [
    "# Clasificación de Planes de Megaline"
   ]
  },
  {
   "cell_type": "markdown",
   "metadata": {},
   "source": [
    "# Contenido <a id='back'></a>\n",
    "\n",
    "* [Introducción](#intro)\n",
    "* [Objetivos](#obj)\n",
    "* [Etapa 1. Descripción de los datos](#data_review)\n",
    "* [Etapa 2. Preprocesamiento de datos](#data_preprocessing)\n",
    "* [Etapa 3. Desarrollo de modelos](#modelo)\n",
    "* [Conclusiones](#end)"
   ]
  },
  {
   "cell_type": "markdown",
   "metadata": {},
   "source": [
    "## Introducción <a id='intro'></a>\n",
    "En este proyecto, exploraremos diferentes técnicas de aprendizaje automático para analizar el comportamiento de los clientes de Megaline, una compañía móvil, con el objetivo de recomendar uno de sus nuevos planes: Smart o Ultra. Actualmente, muchos clientes aún utilizan planes heredados, lo que la compañía desea cambiar mediante un modelo predictivo que pueda sugerir el plan más adecuado para cada usuario.\n",
    "\n",
    "## Objetivos: <a id='obj'></a>\n",
    "Desarrollar un modelo con la mayor exactitud posible. En este proyecto, el umbral de exactitud es 0.75.\n",
    "\n",
    "## Etapas:\n",
    "El proyecto consistirá en tres etapas:\n",
    " 1. Descripción de los datos.\n",
    " 2. Preprocesamiento de datos.\n",
    " 3. Desarrollo de modelos.\n"
   ]
  },
  {
   "cell_type": "markdown",
   "metadata": {},
   "source": [
    "## Etapa 1. Descripción de los datos <a id='data_review'></a>\n",
    "\n",
    "Cada observación en el dataset contiene información del comportamiento mensual sobre un usuario. La información dada es la siguiente:\n",
    "\n",
    "*сalls — número de llamadas,\n",
    "\n",
    "*minutes — duración total de la llamada en minutos,\n",
    "\n",
    "*messages — número de mensajes de texto,\n",
    "\n",
    "*mb_used — Tráfico de Internet utilizado en MB,\n",
    "\n",
    "*is_ultra — plan para el mes actual (Ultra - 1, Smart - 0)."
   ]
  },
  {
   "cell_type": "markdown",
   "metadata": {},
   "source": [
    "## Etapa 2. Preprocesamiento de datos <a id='data_preprocessing)'>"
   ]
  },
  {
   "cell_type": "code",
   "execution_count": 13,
   "metadata": {},
   "outputs": [],
   "source": [
    "#importamos librerias necesarias\n",
    "import pandas as pd\n",
    "from sklearn.tree import DecisionTreeClassifier\n",
    "from sklearn.model_selection import train_test_split\n",
    "from sklearn.ensemble import RandomForestClassifier\n",
    "from sklearn.metrics import accuracy_score\n",
    "from sklearn.linear_model import LogisticRegression\n",
    "from sklearn.metrics import mean_squared_error\n",
    "from sklearn.ensemble import RandomForestRegressor"
   ]
  },
  {
   "cell_type": "markdown",
   "metadata": {},
   "source": [
    "## Exploracion Inicial de Datos"
   ]
  },
  {
   "cell_type": "code",
   "execution_count": 3,
   "metadata": {},
   "outputs": [
    {
     "data": {},
     "execution_count": 3,
     "metadata": {},
     "output_type": "execute_result"
    }
   ],
   "source": [
    "#cargamos el dataset\n",
    "df = pd.read_csv(\"users_behavior.csv\")\n",
    "df.describe()"
   ]
  },
  {
   "cell_type": "markdown",
   "metadata": {},
   "source": [
    "## Analisis de Datos"
   ]
  },
  {
   "cell_type": "markdown",
   "metadata": {},
   "source": [
    "El dataset proporcionado contiene información detallada sobre el comportamiento mensual de los usuarios, incluyendo el número de llamadas realizadas, la duración total de las llamadas, la cantidad de mensajes de texto enviados y el tráfico de Internet utilizado, así como la etiqueta que indica si el usuario está actualmente suscrito al plan Ultra (1) o al plan Smart (0)."
   ]
  },
  {
   "cell_type": "code",
   "execution_count": 4,
   "metadata": {},
   "outputs": [],
   "source": [
    "# Definimos el target y features\n",
    "features= df.drop(['is_ultra'], axis = 1)\n",
    "target= df['is_ultra']"
   ]
  },
  {
   "cell_type": "code",
   "execution_count": 17,
   "metadata": {},
   "outputs": [],
   "source": [
    "# Segmentamos un conjunto de entrenamiento, de validacion y de prueba (60-20-20)\n",
    "features_train, features_remaining, target_train, target_remaining = train_test_split(features, target, test_size=0.4, random_state=54321)\n",
    "features_val, features_test, target_val, target_test = train_test_split(features_remaining, target_remaining, test_size=0.5, random_state=54321)\n",
    "\n",
    "# Verificación de tamaños\n",
    "print(f'Tamaño conjunto de entrenamiento: {len(features_train)}')\n",
    "print(f'Tamaño conjunto de validacion: {len(features_val)}')\n",
    "print(f'Tamaño conjunto de prueba: {len(features_test)}')"
   ]
  },
  {
   "cell_type": "markdown",
   "metadata": {},
   "source": [
    "## Etapa 3. Desarrollo de modelos <a id='modelo'></a>"
   ]
  },
  {
   "cell_type": "code",
   "execution_count": 6,
   "metadata": {},
   "outputs": [],
   "source": [
    "# Probamos el modelo de DecisionTreeClasifier\n",
    "model1 = DecisionTreeClassifier(random_state=54321)\n",
    "model1.fit(features_train, target_train)\n",
    "prediccion1 = model1.predict(features_test)\n",
    "\n",
    "# Calcular la exactitud del modelo\n",
    "accuracy1 = accuracy_score(target_test, prediccion1)\n",
    "print(f'Exactitud de Árbol de Decisión: {accuracy1}')\n"
   ]
  },
  {
   "cell_type": "code",
   "execution_count": 7,
   "metadata": {},
   "outputs": [],
   "source": [
    "# Probamos el modelo RandomForestClassifier\n",
    "model2 = RandomForestClassifier(random_state=54321)\n",
    "model2.fit(features_train, target_train)\n",
    "prediccion2 = model2.predict(features_test)\n",
    "\n",
    "# Calcular la exactitud del modelo\n",
    "accuracy2 = accuracy_score(target_test, prediccion2)\n",
    "print(f'Exactitud de Bosque Aleatorio: {accuracy2}')"
   ]
  },
  {
   "cell_type": "code",
   "execution_count": 8,
   "metadata": {},
   "outputs": [],
   "source": [
    "# Probamos el modelo de Regresión Logistica\n",
    "model3 = LogisticRegression(random_state=54321)\n",
    "model3.fit(features_train, target_train)\n",
    "prediccion3 = model3.predict(features_test)\n",
    "\n",
    "# Calcular la exactitud del modelo\n",
    "accuracy3 = accuracy_score(target_test, prediccion3)\n",
    "print(f'Exactitud de Regresión Lineal: {accuracy3}')"
   ]
  },
  {
   "cell_type": "code",
   "execution_count": 18,
   "metadata": {},
   "outputs": [],
   "source": [
    "# Implementamos el loop para probar diferentes hiperparámetros en RandomForestClassifier\n",
    "best_accuracy = 0\n",
    "best_params = {}\n",
    "for n_estimators in [50, 100, 200]:\n",
    "    for max_depth in [None, 10, 20, 30]:\n",
    "        for min_samples_split in [2, 5, 10]:\n",
    "            model = RandomForestClassifier(\n",
    "                n_estimators=n_estimators, \n",
    "                max_depth=max_depth, \n",
    "                min_samples_split=min_samples_split, \n",
    "                random_state=54321\n",
    "            )\n",
    "            model.fit(features_train, target_train)\n",
    "            prediccion_val = model.predict(features_val)\n",
    "            accuracy_val = accuracy_score(target_val, prediccion_val)\n",
    "            if accuracy_val > best_accuracy:\n",
    "                best_accuracy = accuracy_val\n",
    "                best_params = {\n",
    "                    'n_estimators': n_estimators,\n",
    "                    'max_depth': max_depth,\n",
    "                    'min_samples_split': min_samples_split\n",
    "                }\n",
    "\n",
    "print(f'Mejores parámetros: {best_params}')\n",
    "print(f'Mejor exactitud en validación: {best_accuracy}')"
   ]
  },
  {
   "cell_type": "code",
   "execution_count": 20,
   "metadata": {},
   "outputs": [],
   "source": [
    "# Entrenamos el mejor modelo encontrado con el conjunto de prueba\n",
    "best_model = RandomForestClassifier(\n",
    "    n_estimators=best_params['n_estimators'], \n",
    "    max_depth=best_params['max_depth'], \n",
    "    min_samples_split=best_params['min_samples_split'], \n",
    "    random_state=54321\n",
    ")\n",
    "best_model.fit(features_train, target_train)\n",
    "prediccion_test = best_model.predict(features_test)\n",
    "accuracy_test = accuracy_score(target_test, prediccion_test)\n",
    "print(f'Exactitud del mejor modelo en el conjunto de prueba: {accuracy_test}')"
   ]
  },
  {
   "cell_type": "markdown",
   "metadata": {},
   "source": [
    "## Conclusion <a id='end'></a>\n",
    "\n",
    "Se cargaron los datos de comportamiento de los usuarios (users_behavior.csv), y se dividieron en conjuntos de entrenamiento, validación y prueba.\n",
    "La distribución de los datos fue de 60% para el entrenamiento, 20% para la validación y 20% para la prueba.\n",
    "\n",
    "Se implementaron y evaluaron tres modelos de aprendizaje automático: DecisionTreeClassifier, RandomForestClassifier y LogisticRegression.\n",
    "\n",
    "Se realizó una iteración sobre diferentes valores de hiperparámetros (n_estimators, max_depth, min_samples_split) para RandomForestClassifier.\n",
    "\n",
    "El RandomForestClassifier con los mejores hiperparámetros se evaluó utilizando el conjunto de prueba.\n",
    "\n",
    "Se concluye que el mejor modelo fue con los siguientes parametros:n_estimators: 200, max_depth: 30 y min_samples_split: 2.\n",
    "\n",
    "Con una exactitud del modelo de aproximadamente del 80%, superando el umbral mínimo de exactitud requerido del 75%.\n"
   ]
  }
 ],
 "metadata": {
  "kernelspec": {
   "display_name": "Python 3 (ipykernel)",
   "language": "python",
   "name": "python3"
  },
  "language_info": {
   "codemirror_mode": {
    "name": "ipython",
    "version": 3
   },
   "file_extension": ".py",
   "mimetype": "text/x-python",
   "name": "python",
   "nbconvert_exporter": "python",
   "pygments_lexer": "ipython3",
   "version": "3.9.19"
  },
  "toc": {
   "base_numbering": 1,
   "nav_menu": {},
   "number_sections": true,
   "sideBar": true,
   "skip_h1_title": true,
   "title_cell": "Table of Contents",
   "title_sidebar": "Contents",
   "toc_cell": false,
   "toc_position": {},
   "toc_section_display": true,
   "toc_window_display": false
  }
 },
 "nbformat": 4,
 "nbformat_minor": 2
}
